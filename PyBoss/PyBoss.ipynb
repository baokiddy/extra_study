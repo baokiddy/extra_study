{
 "cells": [
  {
   "cell_type": "code",
   "execution_count": 1,
   "metadata": {},
   "outputs": [],
   "source": [
    "# Dependencies\n",
    "import os\n",
    "import csv\n",
    "import codecs\n",
    "import datetime"
   ]
  },
  {
   "cell_type": "code",
   "execution_count": 2,
   "metadata": {},
   "outputs": [],
   "source": [
    "#Open and read file for analysis\n",
    "csvpath = os.path.join(\"Resources\", \"employee_data.csv\")"
   ]
  },
  {
   "cell_type": "code",
   "execution_count": 3,
   "metadata": {},
   "outputs": [],
   "source": [
    "#Create empty lists for each column\n",
    "emp_id = []\n",
    "name = []\n",
    "dob = []\n",
    "ssn = []\n",
    "state = []\n",
    "\n",
    "with open(csvpath, newline='', encoding='utf8') as csvfile:\n",
    "\n",
    "    #Read and pull data\n",
    "    csvreader = csv.reader(csvfile, delimiter=',')\n",
    "\n",
    "    # Then store the contents of the date and profit/loss columns.\n",
    "    for row in csvreader:\n",
    "        \n",
    "        #if not [ char for char in row if char in string.digits ]:\n",
    "            emp_id.append(row[0])\n",
    "            name.append(row[1])\n",
    "            dob.append(row[2])\n",
    "            ssn.append(row[3])\n",
    "            state.append(row[4])\n",
    "        \n",
    "    del emp_id[0]\n",
    "    del name[0]\n",
    "    del dob[0]\n",
    "    del ssn[0]\n",
    "    del state[0]\n"
   ]
  },
  {
   "cell_type": "code",
   "execution_count": 4,
   "metadata": {},
   "outputs": [],
   "source": [
    "# Split first and last names into their own lists\n",
    "first_name = []\n",
    "last_name = []\n",
    "\n",
    "for x in name:\n",
    "    first = x.split()[0]\n",
    "    last = x.split()[1]\n",
    "    \n",
    "    first_name.append(first)\n",
    "    last_name.append(last)\n"
   ]
  },
  {
   "cell_type": "code",
   "execution_count": 5,
   "metadata": {},
   "outputs": [],
   "source": [
    "# Change the format for the DOBs\n",
    "edited_dob = []\n",
    "\n",
    "for date in dob:\n",
    "    edited_date = datetime.datetime.strptime( date, '%Y-%m-%d').strftime('%m/%d/%y')\n",
    "    edited_dob.append(edited_date)\n"
   ]
  },
  {
   "cell_type": "code",
   "execution_count": 6,
   "metadata": {},
   "outputs": [],
   "source": [
    "# Change formate for SSNs\n",
    "edited_ssn = []\n",
    "\n",
    "for num in ssn:\n",
    "    full_ssn = num.split('-')\n",
    "    f_digit = full_ssn[0].translate(\"*\"*256)\n",
    "    s_digit = full_ssn[1].translate(\"*\"*256)\n",
    "    edited_num = f\"{f_digit}-{s_digit}-{full_ssn[2]}\"\n",
    "    \n",
    "    edited_ssn.append(edited_num)"
   ]
  },
  {
   "cell_type": "code",
   "execution_count": 7,
   "metadata": {},
   "outputs": [],
   "source": [
    "# Change state name to abbreviations\n",
    "edited_state = []\n",
    "us_state_abbrev = {\n",
    "    'Alabama': 'AL',\n",
    "    'Alaska': 'AK',\n",
    "    'Arizona': 'AZ',\n",
    "    'Arkansas': 'AR',\n",
    "    'California': 'CA',\n",
    "    'Colorado': 'CO',\n",
    "    'Connecticut': 'CT',\n",
    "    'Delaware': 'DE',\n",
    "    'Florida': 'FL',\n",
    "    'Georgia': 'GA',\n",
    "    'Hawaii': 'HI',\n",
    "    'Idaho': 'ID',\n",
    "    'Illinois': 'IL',\n",
    "    'Indiana': 'IN',\n",
    "    'Iowa': 'IA',\n",
    "    'Kansas': 'KS',\n",
    "    'Kentucky': 'KY',\n",
    "    'Louisiana': 'LA',\n",
    "    'Maine': 'ME',\n",
    "    'Maryland': 'MD',\n",
    "    'Massachusetts': 'MA',\n",
    "    'Michigan': 'MI',\n",
    "    'Minnesota': 'MN',\n",
    "    'Mississippi': 'MS',\n",
    "    'Missouri': 'MO',\n",
    "    'Montana': 'MT',\n",
    "    'Nebraska': 'NE',\n",
    "    'Nevada': 'NV',\n",
    "    'New Hampshire': 'NH',\n",
    "    'New Jersey': 'NJ',\n",
    "    'New Mexico': 'NM',\n",
    "    'New York': 'NY',\n",
    "    'North Carolina': 'NC',\n",
    "    'North Dakota': 'ND',\n",
    "    'Ohio': 'OH',\n",
    "    'Oklahoma': 'OK',\n",
    "    'Oregon': 'OR',\n",
    "    'Pennsylvania': 'PA',\n",
    "    'Rhode Island': 'RI',\n",
    "    'South Carolina': 'SC',\n",
    "    'South Dakota': 'SD',\n",
    "    'Tennessee': 'TN',\n",
    "    'Texas': 'TX',\n",
    "    'Utah': 'UT',\n",
    "    'Vermont': 'VT',\n",
    "    'Virginia': 'VA',\n",
    "    'Washington': 'WA',\n",
    "    'West Virginia': 'WV',\n",
    "    'Wisconsin': 'WI',\n",
    "    'Wyoming': 'WY',\n",
    "}\n",
    "\n",
    "for s in state:\n",
    "    edited_s = us_state_abbrev[s]\n",
    "    edited_state.append(edited_s)"
   ]
  },
  {
   "cell_type": "code",
   "execution_count": 8,
   "metadata": {},
   "outputs": [],
   "source": [
    "#Export a text file with the results\n",
    "# save the output file path\n",
    "output_file = os.path.join(\"edited_employee_data.csv\")\n",
    "\n",
    "# open the output file, create a header row, and then write the zipped object to the csv\n",
    "with open(output_file, \"w\", newline=\"\") as datafile:\n",
    "    writer = csv.writer(datafile)\n",
    "\n",
    "    writer.writerow([\"Employee Database\"])\n",
    "    writer.writerow([\"Emp ID\", \"First Name\", \"Last Name\", \"DOB\", \"SSN\",\"State\"])\n",
    "    \n",
    "    rows = zip(emp_id, first_name, last_name, edited_dob, edited_ssn, edited_state)\n",
    "    \n",
    "    for row in rows:\n",
    "        writer.writerow(row)"
   ]
  }
 ],
 "metadata": {
  "kernelspec": {
   "display_name": "Python 3",
   "language": "python",
   "name": "python3"
  },
  "language_info": {
   "codemirror_mode": {
    "name": "ipython",
    "version": 3
   },
   "file_extension": ".py",
   "mimetype": "text/x-python",
   "name": "python",
   "nbconvert_exporter": "python",
   "pygments_lexer": "ipython3",
   "version": "3.6.5"
  }
 },
 "nbformat": 4,
 "nbformat_minor": 2
}
